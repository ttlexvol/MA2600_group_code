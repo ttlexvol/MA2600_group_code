{
 "cells": [
  {
   "cell_type": "markdown",
   "metadata": {},
   "source": [
    "## Perform a Hessenberg decomposition\n"
   ]
  },
  {
   "cell_type": "code",
   "execution_count": 35,
   "metadata": {},
   "outputs": [
    {
     "data": {
      "text/plain": [
       "6×6 Matrix{Int64}:\n",
       "  1  -1   1  -1  -1  -1\n",
       " -1  -1  -1   1  -1   1\n",
       " -1  -1   1  -1   1   1\n",
       "  1  -1   1  -1  -1   1\n",
       "  1   1   1  -1  -1   1\n",
       " -1  -1   1  -1  -1  -1"
      ]
     },
     "metadata": {},
     "output_type": "display_data"
    },
    {
     "data": {
      "text/plain": [
       "11-element Vector{Int64}:\n",
       " -1\n",
       " -1\n",
       "  1\n",
       "  1\n",
       " -1\n",
       " -1\n",
       " -1\n",
       " -1\n",
       " -1\n",
       "  1\n",
       " -1"
      ]
     },
     "execution_count": 35,
     "metadata": {},
     "output_type": "execute_result"
    }
   ],
   "source": [
    "using LinearAlgebra\n",
    "m = 6\n",
    "A = rand((-1, 1), m, m)\n",
    "H = A\n",
    "display(A)\n",
    "u = H[1*2:m*2]\n",
    "# for i in 1:m-1\n",
    "#     u = H[1:m][i]\n",
    "#     u[2]\n",
    "#     for j in 1:i \n",
    "#         u[j] *= 0.0; \n",
    "#     end\n",
    "#     u[i + 1] -= norm(u);\n",
    "#     u = norm(u);\n",
    "#     Q = I - 2*Kronecker(u, u);\n",
    "#     H = Q.H.Q\\[Transpose]\n",
    "# end "
   ]
  },
  {
   "cell_type": "code",
   "execution_count": null,
   "metadata": {},
   "outputs": [],
   "source": []
  }
 ],
 "metadata": {
  "kernelspec": {
   "display_name": "Julia 1.9.3",
   "language": "julia",
   "name": "julia-1.9"
  },
  "language_info": {
   "file_extension": ".jl",
   "mimetype": "application/julia",
   "name": "julia",
   "version": "1.9.3"
  },
  "orig_nbformat": 4
 },
 "nbformat": 4,
 "nbformat_minor": 2
}
