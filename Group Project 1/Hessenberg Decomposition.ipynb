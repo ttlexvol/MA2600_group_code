{
 "cells": [
  {
   "cell_type": "markdown",
   "metadata": {},
   "source": [
    "## Perform a Hessenberg decomposition\n"
   ]
  },
  {
   "cell_type": "code",
   "execution_count": null,
   "metadata": {},
   "outputs": [],
   "source": [
    "m = 6\n",
    "A = rand((-1.0:1.0), m, m)\n",
    "H = A\n",
    "for i in 1:m-1\n",
    "    u = H[:,i]\n",
    "    u[1:i] *= 0.0; \n",
    "    u[i + 1] -= norm(u)\n",
    "    u = normalize(u)\n",
    "    Q = I - 2*kron(u, u)\n",
    "    H = Q*H*Q'\n",
    "end \n",
    "H"
   ]
  },
  {
   "cell_type": "code",
   "execution_count": null,
   "metadata": {},
   "outputs": [],
   "source": []
  }
 ],
 "metadata": {
  "kernelspec": {
   "display_name": "Julia 1.9.3",
   "language": "julia",
   "name": "julia-1.9"
  },
  "language_info": {
   "file_extension": ".jl",
   "mimetype": "application/julia",
   "name": "julia",
   "version": "1.9.3"
  },
  "orig_nbformat": 4
 },
 "nbformat": 4,
 "nbformat_minor": 2
}
