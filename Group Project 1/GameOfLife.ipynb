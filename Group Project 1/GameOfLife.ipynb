{
 "cells": [
  {
   "cell_type": "markdown",
   "id": "80fde9d7-16ef-4794-b5e3-5c85ea22a6d2",
   "metadata": {},
   "source": [
    "# Test1:\n",
    "## Initialize an NxN matrix"
   ]
  },
  {
   "cell_type": "code",
   "execution_count": null,
   "id": "e621a867-59d4-4f50-b889-ed0e44354392",
   "metadata": {
    "tags": []
   },
   "outputs": [],
   "source": [
    "n = 5\n",
    "board = zeros(Int8, n+2, n+2)\n",
    "A = zeros(Int8, n+2, n+2)\n",
    "board[3,2] = 1\n",
    "board[3,3] = 1\n",
    "board[3,4] = 1\n",
    "for i in 2:n+1\n",
    "    for j in 2:n+1\n",
    "        A[i,j] = board[i+1,j] + board[i+1,j+1] + board[i,j+1] + board[i-1,j] + board[i-1,j-1] + board[i,j-1] + board[i+1,j-1] + board[i-1,j+1]\n",
    "    end\n",
    "end\n",
    "board"
   ]
  },
  {
   "cell_type": "markdown",
   "id": "972888d9-e165-43f1-b683-c5e1bf634821",
   "metadata": {},
   "source": [
    "## define a logic function"
   ]
  },
  {
   "cell_type": "code",
   "execution_count": null,
   "id": "96bb6cab-1c46-4c2c-837f-f7d71b3a4fe1",
   "metadata": {
    "tags": []
   },
   "outputs": [],
   "source": [
    "function livesOrDies(alive, liveNeighbors)\n",
    "    if alive == 1\n",
    "        if ((liveNeighbors > 3) | (liveNeighbors < 2))\n",
    "            return 0\n",
    "        end\n",
    "    elseif liveNeighbors == 3\n",
    "        return 1\n",
    "    end\n",
    "    return alive\n",
    "end"
   ]
  },
  {
   "cell_type": "markdown",
   "id": "b2e6f50b-12cf-404d-8c3c-0cdb6e69d070",
   "metadata": {},
   "source": [
    "## start the game with a loop"
   ]
  },
  {
   "cell_type": "code",
   "execution_count": null,
   "id": "51dcb6e5-f3d2-4ac1-ad77-b4ef9d6680c5",
   "metadata": {
    "scrolled": true,
    "tags": []
   },
   "outputs": [],
   "source": [
    "#we'll do 6 iterations to start\n",
    "for x in 1:6\n",
    "    for i in 2:n+1\n",
    "        for j in 2:n+1\n",
    "            A[i,j] = board[i+1,j] + board[i+1,j+1] + board[i,j+1] + board[i-1,j] + board[i-1,j-1] + board[i,j-1] + board[i+1,j-1] + board[i-1,j+1]\n",
    "        end\n",
    "    end\n",
    "    for i in 2:n+1\n",
    "        for j in 2:n+1\n",
    "            board[i,j] = livesOrDies(board[i,j], A[i,j])\n",
    "        end\n",
    "    end\n",
    "    display(board)\n",
    "end"
   ]
  },
  {
   "cell_type": "markdown",
   "id": "bfa7e81e-3c0d-4350-9122-0a0e2f49beb1",
   "metadata": {},
   "source": [
    "# Test 2"
   ]
  },
  {
   "cell_type": "markdown",
   "id": "7b83a080",
   "metadata": {},
   "source": [
    "## Make initializing into a function"
   ]
  },
  {
   "cell_type": "code",
   "execution_count": null,
   "id": "be8d6016",
   "metadata": {},
   "outputs": [],
   "source": [
    "function initGame(N, M, indices)\n",
    "    A = zeros(Int8, N+2, M+2)\n",
    "    B = zeros(Int8, N+2, M+2)\n",
    "    for i in indices\n",
    "        A[i[1], i[2]] = 1\n",
    "    end\n",
    "    for i in 2:n+1\n",
    "        for j in 2:n+1\n",
    "            B[i,j] = A[i+1,j] + A[i+1,j+1] + A[i,j+1] + A[i-1,j] + A[i-1,j-1] + A[i,j-1] + A[i+1,j-1] + A[i-1,j+1]\n",
    "        end\n",
    "    end\n",
    "    return A, B\n",
    "end"
   ]
  },
  {
   "cell_type": "code",
   "execution_count": null,
   "id": "f659be4e",
   "metadata": {},
   "outputs": [],
   "source": [
    "board, A = initGame(5, 5, ((3,2),(3,3),(3,4)))\n"
   ]
  },
  {
   "cell_type": "code",
   "execution_count": null,
   "id": "963690be",
   "metadata": {},
   "outputs": [],
   "source": []
  }
 ],
 "metadata": {
  "kernelspec": {
   "display_name": "Julia 1.9.3",
   "language": "julia",
   "name": "julia-1.9"
  },
  "language_info": {
   "file_extension": ".jl",
   "mimetype": "application/julia",
   "name": "julia",
   "version": "1.9.3"
  }
 },
 "nbformat": 4,
 "nbformat_minor": 5
}
