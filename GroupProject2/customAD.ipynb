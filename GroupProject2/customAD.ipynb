{
 "cells": [
  {
   "cell_type": "code",
   "execution_count": 1,
   "metadata": {},
   "outputs": [
    {
     "data": {
      "text/plain": [
       "customAD (generic function with 1 method)"
      ]
     },
     "execution_count": 1,
     "metadata": {},
     "output_type": "execute_result"
    }
   ],
   "source": [
    "using ForwardDiff\n",
    "function customAD(func, x)\n",
    "    if ()# x is an integer\n",
    "        return ForwardDiff.derivative(f, x)\n",
    "    end\n",
    "    if ()# func returns an integer\n",
    "        return ForwardDiff.gradient(f, x)\n",
    "    end\n",
    "    if ()# func returns a vector\n",
    "        return ForwardDiff.jacobian(f, x)\n",
    "    end\n",
    "    \"error: function type not recognised\"\n",
    "end"
   ]
  },
  {
   "cell_type": "code",
   "execution_count": null,
   "metadata": {},
   "outputs": [],
   "source": []
  }
 ],
 "metadata": {
  "kernelspec": {
   "display_name": "Julia 1.9.3",
   "language": "julia",
   "name": "julia-1.9"
  },
  "language_info": {
   "file_extension": ".jl",
   "mimetype": "application/julia",
   "name": "julia",
   "version": "1.9.3"
  }
 },
 "nbformat": 4,
 "nbformat_minor": 2
}
